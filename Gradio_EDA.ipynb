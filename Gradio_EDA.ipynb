{
 "cells": [
  {
   "cell_type": "code",
   "execution_count": 4,
   "metadata": {},
   "outputs": [
    {
     "name": "stdout",
     "output_type": "stream",
     "text": [
      "* Running on local URL:  http://127.0.0.1:7868\n",
      "\n",
      "Could not create share link. Please check your internet connection or our status page: https://status.gradio.app.\n"
     ]
    },
    {
     "data": {
      "text/html": [
       "<div><iframe src=\"http://127.0.0.1:7868/\" width=\"100%\" height=\"500\" allow=\"autoplay; camera; microphone; clipboard-read; clipboard-write;\" frameborder=\"0\" allowfullscreen></iframe></div>"
      ],
      "text/plain": [
       "<IPython.core.display.HTML object>"
      ]
     },
     "metadata": {},
     "output_type": "display_data"
    },
    {
     "data": {
      "text/plain": []
     },
     "execution_count": 4,
     "metadata": {},
     "output_type": "execute_result"
    }
   ],
   "source": [
    "import gradio as gr\n",
    "import pandas as pd\n",
    "import seaborn as sns\n",
    "import matplotlib.pyplot as plt\n",
    "import numpy as np\n",
    "\n",
    "# Function to analyze the uploaded file\n",
    "def analyze_file(file):\n",
    "    \"\"\"Reads the uploaded CSV/Excel file and returns key data quality insights.\"\"\"\n",
    "\n",
    "    # Read the uploaded file\n",
    "    if file.name.endswith('.csv'):\n",
    "        df = pd.read_csv(file.name)\n",
    "    else:\n",
    "        df = pd.read_excel(file.name)\n",
    "\n",
    "    # Summary Statistics\n",
    "    summary_stats = df.describe(include='all').T\n",
    "    \n",
    "    # Missing Values Count (Convert Series to DataFrame with Column Names)\n",
    "    missing_values = pd.DataFrame({'Column Name': df.columns, 'Missing Count': df.isnull().sum().values})\n",
    "\n",
    "    # Duplicate Records Count\n",
    "    duplicate_count = int(df.duplicated().sum())  # Ensure it's an int, not NumPy type\n",
    "\n",
    "    # Data Types (Convert Series to DataFrame with Column Names)\n",
    "    data_types = pd.DataFrame({'Column Name': df.columns, 'Data Type': df.dtypes.values})\n",
    "\n",
    "    # Select only numeric columns for correlation matrix\n",
    "    numeric_df = df.select_dtypes(include=['number'])\n",
    "    correlation_matrix = numeric_df.corr()\n",
    "\n",
    "    # Generate Correlation Heatmap\n",
    "    plt.figure(figsize=(10, 6))\n",
    "    sns.heatmap(correlation_matrix, annot=True, cmap=\"coolwarm\", fmt=\".2f\")\n",
    "    plt.title(\"Correlation Matrix\")\n",
    "    corr_plot_path = \"correlation_matrix.png\"\n",
    "    plt.savefig(corr_plot_path)\n",
    "    plt.close()\n",
    "\n",
    "    # Return properly formatted values\n",
    "    return summary_stats, missing_values, duplicate_count, data_types, correlation_matrix, corr_plot_path\n",
    "\n",
    "# Create Gradio interface\n",
    "iface = gr.Interface(\n",
    "    fn=analyze_file,\n",
    "    inputs=gr.File(label=\"Upload your CSV or Excel file\"),\n",
    "    outputs=[\n",
    "        gr.Dataframe(label=\"Summary Statistics\"),\n",
    "        gr.Dataframe(label=\"Missing Values Count\"),  # Now formatted as DataFrame with Column Names\n",
    "        gr.Number(label=\"Duplicate Records Count\"),  # Ensured it's an int\n",
    "        gr.Dataframe(label=\"Data Types\"),  # Now formatted as DataFrame with Column Names\n",
    "        gr.Dataframe(label=\"Correlation Matrix\"),\n",
    "        gr.Image(label=\"Correlation Heatmap\")\n",
    "    ],\n",
    "    title=\"Instant Data Quality Checker\",\n",
    "    description=\"Upload a CSV or Excel file to get instant insights on data quality. No coding required!\"\n",
    ")\n",
    "\n",
    "# Launch Gradio app with share mode enabled\n",
    "iface.launch(share=True)"
   ]
  }
 ],
 "metadata": {
  "kernelspec": {
   "display_name": "Python 3",
   "language": "python",
   "name": "python3"
  },
  "language_info": {
   "codemirror_mode": {
    "name": "ipython",
    "version": 3
   },
   "file_extension": ".py",
   "mimetype": "text/x-python",
   "name": "python",
   "nbconvert_exporter": "python",
   "pygments_lexer": "ipython3",
   "version": "3.12.1"
  }
 },
 "nbformat": 4,
 "nbformat_minor": 2
}
